{
 "cells": [
  {
   "cell_type": "code",
   "execution_count": 2,
   "metadata": {},
   "outputs": [],
   "source": [
    "import numpy as np"
   ]
  },
  {
   "cell_type": "code",
   "execution_count": 170,
   "metadata": {},
   "outputs": [
    {
     "name": "stdout",
     "output_type": "stream",
     "text": [
      "O índice codificado da sequência [4, 4, 1, 0] é 605\n"
     ]
    }
   ],
   "source": [
    "def enumerative_encoder(sequence, alphabet_size):\n",
    "    index = 0\n",
    "    n = len(sequence)\n",
    "    \n",
    "    for i in range(n):\n",
    "        index += sequence[i] * (alphabet_size ** (n - i - 1))    \n",
    "    return index\n",
    "\n",
    "# Exemplo de uso:\n",
    "sequence = [4, 4, 1, 0]\n",
    "alphabet_size = 5 \n",
    "\n",
    "encoded_value = enumerative_encoder(sequence, alphabet_size)\n",
    "print(f\"O índice codificado da sequência {sequence} é {encoded_value}\")\n"
   ]
  },
  {
   "cell_type": "code",
   "execution_count": 175,
   "metadata": {},
   "outputs": [
    {
     "name": "stdout",
     "output_type": "stream",
     "text": [
      "A palavra codificada na posição 605 é [4, 4, 1, 0]\n"
     ]
    }
   ],
   "source": [
    "def enumerative_encoding(A, N, n):\n",
    "    alphabet_size = len(A)\n",
    "    word = []\n",
    "    k = 0\n",
    "    for k in range(0, n):\n",
    "        n_bk = N\n",
    "        n_a = (alphabet_size ** (n - k - 1))\n",
    "        index = int(n_bk/n_a)\n",
    "        if N == 0:\n",
    "            word.append(A[N])\n",
    "        else:\n",
    "            word.append(A[index])\n",
    "            n_bk = n_a * index\n",
    "            N = N - n_bk\n",
    "    return word\n",
    "\n",
    "A = {0,1,2,3,4}\n",
    "A = sorted(A)\n",
    "\n",
    "N = 605\n",
    "n = 4\n",
    "\n",
    "word = enumerative_encoding(A, N, n)\n",
    "print(f\"A palavra codificada na posição {N} é {word}\")\n",
    "    "
   ]
  },
  {
   "cell_type": "code",
   "execution_count": 174,
   "metadata": {},
   "outputs": [
    {
     "name": "stdout",
     "output_type": "stream",
     "text": [
      "125 200 250\n",
      "k,1, 2\n",
      "75 75 25\n",
      "3\n",
      "k,2, 1\n",
      "0 0 5\n",
      "0\n",
      "k,3, 0\n",
      "0 0 1\n",
      "0\n",
      "[1, 3, 0, 0]\n"
     ]
    }
   ],
   "source": [
    "alphabet_size = len(A)\n",
    "N = 200\n",
    "n = 4\n",
    "word = []\n",
    "k = 0\n",
    "\n",
    "if k == 0:\n",
    "    N_1 = (alphabet_size ** (n - k - 1))\n",
    "    N_2 =  alphabet_size * (alphabet_size ** 2) + N_1\n",
    "    print(N_1, N, N_2)\n",
    "    if N <= N_1:\n",
    "        word.append(A[k])\n",
    "    elif N_1 <= N < N_2:\n",
    "        word.append(A[k+1])\n",
    "        N = N - N_1\n",
    "    elif N > N_2:\n",
    "        pass\n",
    "for k in range(1, n):\n",
    "    print(f\"k,{k}, {n - k - 1}\")\n",
    "    N_1 = N\n",
    "    N_2 = (alphabet_size ** (n - k - 1))\n",
    "    print(N_1, N, N_2)\n",
    "    pos = int(N_1/N_2)\n",
    "    \n",
    "    print(pos)\n",
    "    if N == 0:\n",
    "        word.append(A[N])\n",
    "    else:\n",
    "        word.append(A[pos])\n",
    "        N_1 = N_2 * pos\n",
    "        N = N - N_1\n",
    "\n",
    "print(word)   \n",
    "  "
   ]
  },
  {
   "cell_type": "code",
   "execution_count": null,
   "metadata": {},
   "outputs": [],
   "source": []
  }
 ],
 "metadata": {
  "kernelspec": {
   "display_name": "cvqkdms",
   "language": "python",
   "name": "python3"
  },
  "language_info": {
   "codemirror_mode": {
    "name": "ipython",
    "version": 3
   },
   "file_extension": ".py",
   "mimetype": "text/x-python",
   "name": "python",
   "nbconvert_exporter": "python",
   "pygments_lexer": "ipython3",
   "version": "3.12.3"
  }
 },
 "nbformat": 4,
 "nbformat_minor": 2
}
