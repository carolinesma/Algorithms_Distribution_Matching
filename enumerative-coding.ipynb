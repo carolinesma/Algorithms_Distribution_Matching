{
 "cells": [
  {
   "cell_type": "code",
   "execution_count": 2,
   "metadata": {},
   "outputs": [],
   "source": [
    "import numpy as np"
   ]
  },
  {
   "cell_type": "code",
   "execution_count": 170,
   "metadata": {},
   "outputs": [
    {
     "name": "stdout",
     "output_type": "stream",
     "text": [
      "O índice codificado da sequência [4, 4, 1, 0] é 605\n"
     ]
    }
   ],
   "source": [
    "def enumerative_encoder(sequence, alphabet_size):\n",
    "    index = 0\n",
    "    n = len(sequence)\n",
    "    \n",
    "    for i in range(n):\n",
    "        index += sequence[i] * (alphabet_size ** (n - i - 1))    \n",
    "    return index\n",
    "\n",
    "# Exemplo de uso:\n",
    "sequence = [4, 4, 1, 0]\n",
    "alphabet_size = 5 \n",
    "\n",
    "encoded_value = enumerative_encoder(sequence, alphabet_size)\n",
    "print(f\"O índice codificado da sequência {sequence} é {encoded_value}\")\n"
   ]
  },
  {
   "cell_type": "code",
   "execution_count": 175,
   "metadata": {},
   "outputs": [
    {
     "name": "stdout",
     "output_type": "stream",
     "text": [
      "A palavra codificada na posição 605 é [4, 4, 1, 0]\n"
     ]
    }
   ],
   "source": [
    "def enumerative_encoding(A, N, n):\n",
    "    alphabet_size = len(A)\n",
    "    word = []\n",
    "    k = 0\n",
    "    for k in range(0, n):\n",
    "        n_bk = N\n",
    "        n_a = (alphabet_size ** (n - k - 1))\n",
    "        index = int(n_bk/n_a)\n",
    "        if N == 0:\n",
    "            word.append(A[N])\n",
    "        else:\n",
    "            word.append(A[index])\n",
    "            n_bk = n_a * index\n",
    "            N = N - n_bk\n",
    "    return word\n",
    "\n",
    "A = {0,1,2,3,4}\n",
    "A = sorted(A)\n",
    "\n",
    "N = 605\n",
    "n = 4\n",
    "\n",
    "word = enumerative_encoding(A, N, n)\n",
    "print(f\"A palavra codificada na posição {N} é {word}\")\n",
    "    "
   ]
  }
 ],
 "metadata": {
  "kernelspec": {
   "display_name": "cvqkdms",
   "language": "python",
   "name": "python3"
  },
  "language_info": {
   "codemirror_mode": {
    "name": "ipython",
    "version": 3
   },
   "file_extension": ".py",
   "mimetype": "text/x-python",
   "name": "python",
   "nbconvert_exporter": "python",
   "pygments_lexer": "ipython3",
   "version": "3.12.3"
  }
 },
 "nbformat": 4,
 "nbformat_minor": 2
}
